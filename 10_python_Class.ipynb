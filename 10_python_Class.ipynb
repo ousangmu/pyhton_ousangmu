{
 "cells": [
  {
   "cell_type": "code",
   "execution_count": 1,
   "id": "8f66e7fd",
   "metadata": {
    "tags": []
   },
   "outputs": [],
   "source": [
    "#객체 지향 프로그래밍 (Object-Oriented Programming: OOP)\n",
    "#객체 : Object, 클래스로 선언하여 만든 실제 데이터 인스턴스(instance)\n",
    "#포인트 1) 상태 + 행위로 객체를 구분함\n",
    "#포인트 2) 클래스는 객체를 생성하기위한 설계도"
   ]
  },
  {
   "cell_type": "code",
   "execution_count": 2,
   "id": "613ee44b",
   "metadata": {
    "tags": []
   },
   "outputs": [],
   "source": [
    "r = 0\n",
    "r1 = 0\n",
    "r2 = 0\n",
    "\n",
    "def a(n):\n",
    "    global r  \n",
    "    r += n\n",
    "    return r\n",
    "\n",
    "def a1(n):\n",
    "    global r1  \n",
    "    r1 += n\n",
    "    return r1\n",
    "\n",
    "def a2(n):\n",
    "    global r2  \n",
    "    r2 += n\n",
    "    return r2"
   ]
  },
  {
   "cell_type": "code",
   "execution_count": 3,
   "id": "f8fd1612",
   "metadata": {
    "tags": []
   },
   "outputs": [
    {
     "name": "stdout",
     "output_type": "stream",
     "text": [
      "3\n",
      "7\n",
      "12\n",
      "3\n",
      "7\n",
      "3\n",
      "8\n"
     ]
    }
   ],
   "source": [
    "print(a(3))\n",
    "print(a(4))\n",
    "print(a(5))\n",
    "print(a1(3))\n",
    "print(a1(4))\n",
    "print(a2(3))\n",
    "print(a2(5))"
   ]
  },
  {
   "cell_type": "code",
   "execution_count": 4,
   "id": "13e342b4",
   "metadata": {
    "tags": []
   },
   "outputs": [],
   "source": [
    "class C:\n",
    "    def __init__(self):\n",
    "        self.result = 0\n",
    "    def add(self, n):\n",
    "        self.result += n\n",
    "        return self.result\n",
    "\n",
    "c = C()\n",
    "cc = C()"
   ]
  },
  {
   "cell_type": "code",
   "execution_count": 5,
   "id": "b22d3c8c-09b2-42e4-94e5-105291a87525",
   "metadata": {},
   "outputs": [
    {
     "name": "stdout",
     "output_type": "stream",
     "text": [
      "3\n",
      "7\n",
      "3\n",
      "8\n"
     ]
    }
   ],
   "source": [
    "print(c.add(3))\n",
    "print(c.add(4))\n",
    "print(cc.add(3))\n",
    "print(cc.add(5))"
   ]
  },
  {
   "cell_type": "code",
   "execution_count": 6,
   "id": "1857152d",
   "metadata": {
    "tags": []
   },
   "outputs": [],
   "source": [
    "#클래스는 일종의 틀이며 그걸로 만드는 것이 객체이다.\n",
    "#클래스로 만든 객체를 인스턴스라고 한다.\n",
    "#즉, 인스턴스는 어떤 클래스로 만들었는지가 명시될 때 주로 사용한다."
   ]
  },
  {
   "cell_type": "code",
   "execution_count": 7,
   "id": "d789fcf6",
   "metadata": {
    "tags": []
   },
   "outputs": [
    {
     "data": {
      "text/plain": [
       "3"
      ]
     },
     "execution_count": 7,
     "metadata": {},
     "output_type": "execute_result"
    }
   ],
   "source": [
    "c = C()\n",
    "c.add(3)"
   ]
  },
  {
   "cell_type": "code",
   "execution_count": 8,
   "id": "0eafaa33",
   "metadata": {
    "tags": []
   },
   "outputs": [
    {
     "name": "stdout",
     "output_type": "stream",
     "text": [
      "지구는 4006년에 멸망한다.\n",
      "지구는 40006년에 멸망한다.\n",
      "지구가 4006년에 멸망한다는 사실은 뻥이다.\n",
      "지구는 40006년에 멸망한다.\n"
     ]
    }
   ],
   "source": [
    "#클래스 변수 공유\n",
    "class S:\n",
    "    s = \"지구는 4006년에 멸망한다.\"\n",
    "    ss = \"지구는 40006년에 멸망한다.\"\n",
    "a = S()\n",
    "print(a.s)\n",
    "print(a.ss)\n",
    "S.s = \"지구가 4006년에 멸망한다는 사실은 뻥이다.\"\n",
    "print(a.s)\n",
    "print(a.ss)"
   ]
  },
  {
   "cell_type": "code",
   "execution_count": 9,
   "id": "e3a92233",
   "metadata": {
    "tags": []
   },
   "outputs": [
    {
     "name": "stdout",
     "output_type": "stream",
     "text": [
      "1 + 1 = 2이다.\n",
      "None\n",
      "박달도사 님, 1 + 1 = 2입이다.\n",
      "None\n"
     ]
    }
   ],
   "source": [
    "#클래스 내부의 함수 : 매서드(method)\n",
    "#매서드의 첫번째 파라미터는 자신을 전달하므로 주로 self라는 이름을 사용함.\n",
    "#다른이름을 써도 작동하나 가독성이 떨어짐.\n",
    "\n",
    "class S:\n",
    "    s = \"지구는 4006년에 멸망한다.\"\n",
    "    def sum(selfs, a, b):      \n",
    "        r = a + b\n",
    "        print(\"%d + %d = %d이다.\" %(a, b, r)) \n",
    "\n",
    "a = S()\n",
    "print(a.sum(1,1))\n",
    "\n",
    "class S:\n",
    "    s = \"지구는 4006년에 멸망한다.\"\n",
    "    def sname(self, n):\n",
    "        self.name = n\n",
    "        \n",
    "    def sum(self, a, b):      \n",
    "        result = a + b\n",
    "        print(\"%s 님, %d + %d = %d입이다.\" %(self.name, a, b, result)) \n",
    "\n",
    "a = S()\n",
    "a.sname(\"박달도사\")\n",
    "print(a.sum(1,1))"
   ]
  },
  {
   "cell_type": "code",
   "execution_count": 10,
   "id": "892c9f68",
   "metadata": {
    "tags": []
   },
   "outputs": [
    {
     "name": "stdout",
     "output_type": "stream",
     "text": [
      "지구는 4006년에 멸망한다.\n",
      "박정보\n"
     ]
    }
   ],
   "source": [
    "k = S()\n",
    "k.name = \"박정보\"\n",
    "print(k.s)\n",
    "print(k.name)"
   ]
  },
  {
   "cell_type": "code",
   "execution_count": 11,
   "id": "b3c629a1",
   "metadata": {
    "tags": []
   },
   "outputs": [],
   "source": [
    "class S:\n",
    "    sec = \"지구는 4006년에 멸망한다.\"\n",
    "    def __init__(self, name):\n",
    "        self.name = name\n",
    "        \n",
    "    def sum(self, a, b):      \n",
    "        r = a + b\n",
    "        print(\"%s 님, %d + %d = %d입이다.\" %(self.name, a, b, r)) "
   ]
  },
  {
   "cell_type": "code",
   "execution_count": 12,
   "id": "e239b29e",
   "metadata": {
    "tags": []
   },
   "outputs": [
    {
     "name": "stdout",
     "output_type": "stream",
     "text": [
      "수달도사 님, 2 + 3 = 5입이다.\n"
     ]
    }
   ],
   "source": [
    "lee = S(\"수달도사\")\n",
    "lee.sum(2,3)"
   ]
  },
  {
   "cell_type": "code",
   "execution_count": 13,
   "id": "03275749",
   "metadata": {
    "tags": []
   },
   "outputs": [
    {
     "data": {
      "text/plain": [
       "__main__.F"
      ]
     },
     "execution_count": 13,
     "metadata": {},
     "output_type": "execute_result"
    }
   ],
   "source": [
    "#사칙연산을 할 수 있는 클래스 Fourcal\n",
    "class F:\n",
    "    pass\n",
    "\n",
    "a = F()\n",
    "type(a)"
   ]
  },
  {
   "cell_type": "code",
   "execution_count": 14,
   "id": "fa39bd18",
   "metadata": {
    "tags": []
   },
   "outputs": [
    {
     "name": "stdout",
     "output_type": "stream",
     "text": [
      "4\n",
      "2\n"
     ]
    }
   ],
   "source": [
    "class F:\n",
    "    def sdata(self, first, second):\n",
    "        self.first = first\n",
    "        self.second = second\n",
    "        \n",
    "a = F()\n",
    "a.sdata(4,2)\n",
    "print(a.first)\n",
    "print(a.second)"
   ]
  },
  {
   "cell_type": "code",
   "execution_count": 15,
   "id": "f6e049b0",
   "metadata": {
    "tags": []
   },
   "outputs": [
    {
     "name": "stdout",
     "output_type": "stream",
     "text": [
      "6\n"
     ]
    }
   ],
   "source": [
    "class F:\n",
    "    def sdata(self, f, s):\n",
    "        self.first = f\n",
    "        self.second = s\n",
    "    def sum(self):\n",
    "        r = self.first + self.second\n",
    "        return r\n",
    "\n",
    "a = F()\n",
    "a.sdata(4,2)\n",
    "print(a.sum())"
   ]
  },
  {
   "cell_type": "code",
   "execution_count": 16,
   "id": "ebeed371",
   "metadata": {
    "tags": []
   },
   "outputs": [
    {
     "name": "stdout",
     "output_type": "stream",
     "text": [
      "6\n",
      "8\n",
      "2\n",
      "2.0\n"
     ]
    }
   ],
   "source": [
    "class F:\n",
    "    def sdata(self, f, s):\n",
    "        self.first = f\n",
    "        self.second = s\n",
    "    def sum(self):\n",
    "        r = self.first + self.second\n",
    "        return r\n",
    "    def mul(self):\n",
    "        r = self.first * self.second\n",
    "        return r\n",
    "    def sub(self):\n",
    "        r = self.first - self.second\n",
    "        return r\n",
    "    def div(self):\n",
    "        r = self.first / self.second\n",
    "        return r\n",
    "\n",
    "a = F()\n",
    "a.sdata(4,2)\n",
    "print(a.sum())\n",
    "print(a.mul())\n",
    "print(a.sub())\n",
    "print(a.div())"
   ]
  },
  {
   "cell_type": "code",
   "execution_count": null,
   "id": "f97ef1ad",
   "metadata": {},
   "outputs": [],
   "source": []
  },
  {
   "cell_type": "code",
   "execution_count": null,
   "id": "d1679b55-d575-4816-af16-ba3a074a9751",
   "metadata": {},
   "outputs": [],
   "source": []
  },
  {
   "cell_type": "code",
   "execution_count": null,
   "id": "c3e5d2be-9faa-4c21-b507-cfaa83184ae7",
   "metadata": {},
   "outputs": [],
   "source": []
  }
 ],
 "metadata": {
  "kernelspec": {
   "display_name": "Python 3 (ipykernel)",
   "language": "python",
   "name": "python3"
  },
  "language_info": {
   "codemirror_mode": {
    "name": "ipython",
    "version": 3
   },
   "file_extension": ".py",
   "mimetype": "text/x-python",
   "name": "python",
   "nbconvert_exporter": "python",
   "pygments_lexer": "ipython3",
   "version": "3.11.5"
  }
 },
 "nbformat": 4,
 "nbformat_minor": 5
}
