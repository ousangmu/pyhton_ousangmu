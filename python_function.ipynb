{
 "cells": [
  {
   "cell_type": "code",
   "execution_count": 1,
   "id": "8bf8cf24",
   "metadata": {
    "tags": []
   },
   "outputs": [
    {
     "name": "stdout",
     "output_type": "stream",
     "text": [
      "[1, 2, 3, 4, 5]\n",
      "[1]\n",
      "[1, 2]\n",
      "[1, 2, 3]\n",
      "[1, 2, 3, 4]\n",
      "[1, 2, 3, 4, 5]\n"
     ]
    }
   ],
   "source": [
    "n = []\n",
    "n.append(1)\n",
    "n.append(2)\n",
    "n.append(3)\n",
    "n.append(4)\n",
    "n.append(5)\n",
    "print(n)\n",
    "n=[]\n",
    "for i in range(1,6):\n",
    "    n.append(i)\n",
    "    print(n)"
   ]
  },
  {
   "cell_type": "code",
   "execution_count": 2,
   "id": "d5b9195e",
   "metadata": {
    "tags": []
   },
   "outputs": [
    {
     "name": "stdout",
     "output_type": "stream",
     "text": [
      "[1, 2, 3, 4, 5]\n",
      "[1, 2, 3, 4, 5]\n",
      "[0, 1, 2, 3, 4]\n",
      "[1, 3, 5]\n"
     ]
    }
   ],
   "source": [
    "n = list(range(1,6))\n",
    "print(n)\n",
    "nn = [number for number in range(1,6)]\n",
    "print(nn)\n",
    "n3 = [number-1 for number in range(1,6)]\n",
    "print(n3)\n",
    "n4 = [number for number in range(1,6) if number%2 ==1]\n",
    "print(n4)\n",
    "\n",
    "nl=[]\n",
    "for i in range(1,6):\n",
    "    nl.append(i)\n",
    "    nl"
   ]
  },
  {
   "cell_type": "code",
   "execution_count": 3,
   "id": "2e2db9aa",
   "metadata": {
    "tags": []
   },
   "outputs": [
    {
     "data": {
      "text/plain": [
       "['i', 'love', 'python', 'so', 'much!!!']"
      ]
     },
     "execution_count": 3,
     "metadata": {},
     "output_type": "execute_result"
    }
   ],
   "source": [
    "s = ['I', 'Love', 'Python', 'So', 'MUCH!!!']\n",
    "[i.lower() for i in s]"
   ]
  },
  {
   "cell_type": "code",
   "execution_count": 4,
   "id": "5a1571bc",
   "metadata": {
    "tags": []
   },
   "outputs": [
    {
     "data": {
      "text/plain": [
       "['MUCH!!!']"
      ]
     },
     "execution_count": 4,
     "metadata": {},
     "output_type": "execute_result"
    }
   ],
   "source": [
    "[i for i in s if len(i) > 6]"
   ]
  },
  {
   "cell_type": "code",
   "execution_count": 5,
   "id": "955aa8f5",
   "metadata": {
    "tags": []
   },
   "outputs": [
    {
     "data": {
      "text/plain": [
       "[(0, 0, 0),\n",
       " (1, 1, 1),\n",
       " (2, 4, 8),\n",
       " (3, 9, 27),\n",
       " (4, 16, 64),\n",
       " (5, 25, 125),\n",
       " (6, 36, 216),\n",
       " (7, 49, 343),\n",
       " (8, 64, 512),\n",
       " (9, 81, 729)]"
      ]
     },
     "execution_count": 5,
     "metadata": {},
     "output_type": "execute_result"
    }
   ],
   "source": [
    "[(i, i**2, i**3) for i in range(10)]"
   ]
  },
  {
   "cell_type": "code",
   "execution_count": 6,
   "id": "e442feab",
   "metadata": {
    "tags": []
   },
   "outputs": [
    {
     "name": "stdout",
     "output_type": "stream",
     "text": [
      "1 1\n",
      "1 2\n",
      "2 1\n",
      "2 2\n",
      "3 1\n",
      "3 2\n"
     ]
    }
   ],
   "source": [
    "a = range(1,4)\n",
    "b = range(1,3)\n",
    "for i in a:\n",
    "    for k in b:\n",
    "        print(i, k)"
   ]
  },
  {
   "cell_type": "code",
   "execution_count": 7,
   "id": "1f468e95",
   "metadata": {
    "tags": []
   },
   "outputs": [
    {
     "name": "stdout",
     "output_type": "stream",
     "text": [
      "(1, 1)\n",
      "(1, 2)\n",
      "(2, 1)\n",
      "(2, 2)\n",
      "(3, 1)\n",
      "(3, 2)\n"
     ]
    }
   ],
   "source": [
    "a = range(1,4)\n",
    "b = range(1,3)\n",
    "cel = [(i,j) for i in a for j in b]\n",
    "for k in cel:\n",
    "    print(k)"
   ]
  },
  {
   "cell_type": "code",
   "execution_count": 8,
   "id": "b45fdc76",
   "metadata": {
    "tags": []
   },
   "outputs": [
    {
     "data": {
      "text/plain": [
       "[(1, 0),\n",
       " (2, 0),\n",
       " (2, 1),\n",
       " (3, 0),\n",
       " (3, 1),\n",
       " (3, 2),\n",
       " (4, 0),\n",
       " (4, 1),\n",
       " (4, 2),\n",
       " (4, 3)]"
      ]
     },
     "execution_count": 8,
     "metadata": {},
     "output_type": "execute_result"
    }
   ],
   "source": [
    "[(i,j) for i in range(5) for j in range(i)]"
   ]
  },
  {
   "cell_type": "code",
   "execution_count": 9,
   "id": "9d305796",
   "metadata": {
    "tags": []
   },
   "outputs": [
    {
     "name": "stdout",
     "output_type": "stream",
     "text": [
      "{'l': 1, 'e': 2, 't': 2, 'r': 1, 's': 1}\n"
     ]
    }
   ],
   "source": [
    "w = 'letters'\n",
    "letterC = {letter : w.count(letter) for letter in w}\n",
    "print(letterC)"
   ]
  },
  {
   "cell_type": "code",
   "execution_count": 10,
   "id": "c673cf2b",
   "metadata": {
    "tags": []
   },
   "outputs": [
    {
     "name": "stdout",
     "output_type": "stream",
     "text": [
      "{'s': 1, 'l': 1, 'r': 1, 't': 2, 'e': 2}\n"
     ]
    }
   ],
   "source": [
    "w = 'letters'\n",
    "letterC = {letter : w.count(letter) for letter in set(w)}\n",
    "print(letterC)"
   ]
  },
  {
   "cell_type": "code",
   "execution_count": 11,
   "id": "64c38623",
   "metadata": {
    "tags": []
   },
   "outputs": [
    {
     "name": "stdout",
     "output_type": "stream",
     "text": [
      "{1, 4}\n",
      "3\n",
      "4.4\n",
      "lovepython\n"
     ]
    }
   ],
   "source": [
    "a = {number for number in range(1,6) if number % 3 ==1}\n",
    "print(a)\n",
    "def sum(a,b):\n",
    "    return a+b\n",
    "a=sum(1,2)\n",
    "b=sum(1.3, 3.1)\n",
    "c=sum('love', 'python')\n",
    "print(a)\n",
    "print(b)\n",
    "print(c)"
   ]
  },
  {
   "cell_type": "code",
   "execution_count": 12,
   "id": "9a393e77",
   "metadata": {
    "tags": []
   },
   "outputs": [
    {
     "name": "stdout",
     "output_type": "stream",
     "text": [
      "Monday :drink coffee - eat banana - enjoy tiramisu\n",
      "Tuesday :drink tea - eat orange - enjoy icecream\n",
      "Wednesday :drink beer - eat peach - enjoy pie\n"
     ]
    }
   ],
   "source": [
    "day = ['Monday', 'Tuesday', 'Wednesday']\n",
    "fruit = ['banana', 'orange', 'peach']\n",
    "drink = ['coffee', 'tea', 'beer']\n",
    "dessert = ['tiramisu', 'icecream', 'pie', 'pudding']\n",
    "\n",
    "for day, fruit, drink, dessert in zip(day, fruit, drink, dessert):\n",
    "    print(day, \":drink\", drink, \"- eat\", fruit, \"- enjoy\", dessert)"
   ]
  },
  {
   "cell_type": "code",
   "execution_count": 13,
   "id": "7c1aa357",
   "metadata": {
    "tags": []
   },
   "outputs": [
    {
     "name": "stdout",
     "output_type": "stream",
     "text": [
      "[('Monday', 'Lundi'), ('Tuesday', 'Mardi'), ('Wednesday', 'Mercredi')]\n",
      "{'Monday': 'Lundi', 'Tuesday': 'Mardi', 'Wednesday': 'Mercredi'}\n",
      "{'wine': 'chardonnay', 'entree': 'chicken', 'dessert': 'cake'}\n",
      "{'wine': 'beef', 'entree': 'bagel', 'dessert': 'bordeaux'}\n",
      "{'wine': 'frontenac', 'entree': 'fish', 'dessert': 'flan'}\n",
      "{'wine': 'chardonnay', 'entree': 'chicken', 'dessert': 'pudding'}\n",
      "{'wine': 'dunkelfelder', 'entree': 'duck', 'dessert': 'doughnut'}\n"
     ]
    }
   ],
   "source": [
    "a= 'Monday', 'Tuesday', 'Wednesday'\n",
    "b= 'Lundi', 'Mardi', 'Mercredi'\n",
    "print(list(zip(a, b)))\n",
    "\n",
    "a= 'Monday', 'Tuesday', 'Wednesday'\n",
    "b= 'Lundi', 'Mardi', 'Mercredi'\n",
    "print(dict(zip(a, b)))\n",
    "\n",
    "def menu(a, b, c):\n",
    "    return {'wine': a, 'entree': b, 'dessert': c}\n",
    "print(menu('chardonnay', 'chicken','cake'))\n",
    "\n",
    "def menu(a, b, c):\n",
    "    return {'wine': a, 'entree': b, 'dessert': c}\n",
    "print(menu(a='beef', b='bagel', c='bordeaux'))\n",
    "\n",
    "def menu(a, b, c):\n",
    "    return {'wine': a, 'entree': b, 'dessert': c}\n",
    "print(menu('frontenac', c='flan', b='fish'))\n",
    "\n",
    "def menu(a, b, c='pudding'):\n",
    "    return {'wine': a, 'entree': b, 'dessert': c}\n",
    "print(menu('chardonnay', 'chicken'))\n",
    "\n",
    "def menu(a, b, c='pudding'):\n",
    "    return {'wine': a, 'entree': b, 'dessert': c}\n",
    "print(menu('dunkelfelder', 'duck', 'doughnut'))"
   ]
  },
  {
   "cell_type": "code",
   "execution_count": 14,
   "id": "f23e6da8",
   "metadata": {
    "tags": []
   },
   "outputs": [],
   "source": [
    "def menu(a, b='chardonnay', c='chicken', d = 'pudding'):\n",
    "    return{'price': a, 'wine': b, 'entree': c, 'dessert': d}"
   ]
  },
  {
   "cell_type": "code",
   "execution_count": 15,
   "id": "18dd1b1f",
   "metadata": {
    "tags": []
   },
   "outputs": [
    {
     "name": "stdout",
     "output_type": "stream",
     "text": [
      "{'price': 100, 'wine': 'chardonnay', 'entree': 'chicken', 'dessert': 'pudding'}\n",
      "{'price': 100, 'wine': 'chardonnay', 'entree': 'chicken', 'dessert': 'pudding'}\n",
      "{'price': 120, 'wine': 'beef', 'entree': 'chicken', 'dessert': 'pudding'}\n",
      "{'price': 110, 'wine': 'chardonnay', 'entree': 'chicken', 'dessert': 'bagel'}\n",
      "{'price': 'eighty', 'wine': 'saint-pierre', 'entree': 'fish', 'dessert': 'pudding'}\n",
      "{'price': 'hundred', 'wine': 'saint-pierre', 'entree': 'chicken', 'dessert': 'pudding'}\n"
     ]
    }
   ],
   "source": [
    "print(menu(100))\n",
    "print(menu(a=100))\n",
    "print(menu(a=120, b='beef'))\n",
    "print(menu(d='bagel', a=110))\n",
    "print(menu('eighty', 'saint-pierre', 'fish'))\n",
    "print(menu('hundred', b='saint-pierre'))\n"
   ]
  },
  {
   "cell_type": "code",
   "execution_count": 16,
   "id": "01c64dce",
   "metadata": {
    "tags": []
   },
   "outputs": [],
   "source": [
    "def echo(a):\n",
    "    'echo returns its input argumnet'\n",
    "    return a"
   ]
  },
  {
   "cell_type": "code",
   "execution_count": 17,
   "id": "356a59a1",
   "metadata": {
    "tags": []
   },
   "outputs": [],
   "source": [
    "def print_if_true(t, c):\n",
    "    \"\"\"\n",
    "    Print the first argumnet if a second argumnet is true.\n",
    "    The operation is:\n",
    "     1. Check whether the *second* argument is true.\n",
    "     2. If it is, print the *first* argument.\n",
    "    \"\"\"\n",
    "    if c:\n",
    "        print(t)"
   ]
  },
  {
   "cell_type": "code",
   "execution_count": 18,
   "id": "f385c5bd",
   "metadata": {
    "tags": []
   },
   "outputs": [
    {
     "name": "stdout",
     "output_type": "stream",
     "text": [
      "Help on function echo in module __main__:\n",
      "\n",
      "echo(a)\n",
      "    echo returns its input argumnet\n",
      "\n",
      "None\n",
      "-----------------------------------\n",
      "Help on function print_if_true in module __main__:\n",
      "\n",
      "print_if_true(t, c)\n",
      "    Print the first argumnet if a second argumnet is true.\n",
      "    The operation is:\n",
      "     1. Check whether the *second* argument is true.\n",
      "     2. If it is, print the *first* argument.\n",
      "\n",
      "None\n",
      "-----------------------------------\n",
      "echo returns its input argumnet\n",
      "-----------------------------------\n",
      "\n",
      "    Print the first argumnet if a second argumnet is true.\n",
      "    The operation is:\n",
      "     1. Check whether the *second* argument is true.\n",
      "     2. If it is, print the *first* argument.\n",
      "    \n"
     ]
    }
   ],
   "source": [
    "print(help(echo))\n",
    "print(\"-----------------------------------\")\n",
    "print(help(print_if_true))\n",
    "print(\"-----------------------------------\")\n",
    "print(echo.__doc__)\n",
    "print(\"-----------------------------------\")\n",
    "print(print_if_true.__doc__)"
   ]
  },
  {
   "cell_type": "code",
   "execution_count": null,
   "id": "c46be528",
   "metadata": {},
   "outputs": [],
   "source": []
  },
  {
   "cell_type": "code",
   "execution_count": null,
   "id": "0e40ae57-816c-4cfa-ad05-b88bda7fca4e",
   "metadata": {},
   "outputs": [],
   "source": []
  }
 ],
 "metadata": {
  "kernelspec": {
   "display_name": "Python 3 (ipykernel)",
   "language": "python",
   "name": "python3"
  },
  "language_info": {
   "codemirror_mode": {
    "name": "ipython",
    "version": 3
   },
   "file_extension": ".py",
   "mimetype": "text/x-python",
   "name": "python",
   "nbconvert_exporter": "python",
   "pygments_lexer": "ipython3",
   "version": "3.11.5"
  }
 },
 "nbformat": 4,
 "nbformat_minor": 5
}
