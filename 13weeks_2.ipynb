{
 "cells": [
  {
   "cell_type": "code",
   "execution_count": 1,
   "id": "6b411686-2575-4278-bac0-3985b0414298",
   "metadata": {
    "tags": []
   },
   "outputs": [
    {
     "name": "stdout",
     "output_type": "stream",
     "text": [
      "<a class=\"gd_name\" href=\"/Product/Goods/74261416\" onclick=\"wiseLogV2('S', '101_005_003_001', ''); setGoodsClickExtraCodeHub('032', '9791190090018', '74261416', '0');\">우리가 빛의 속도로 갈 수 없다면</a>\n"
     ]
    },
    {
     "data": {
      "text/plain": [
       "'134*200*20mm'"
      ]
     },
     "execution_count": 1,
     "metadata": {},
     "output_type": "execute_result"
    }
   ],
   "source": [
    "from bs4 import BeautifulSoup\n",
    "import requests\n",
    "url = 'http://www.yes24.com/Product/Search?domain=BOOK&query={}'\n",
    "isbn = 9791190090018\n",
    "r = requests.get(url.format(isbn))\n",
    "soup = BeautifulSoup(r.text, 'html.parser')\n",
    "prd_link = soup.find('a', attrs={'class':'gd_name'})\n",
    "print(prd_link)\n",
    "\n",
    "def get_gram_cnt(isbn):\n",
    "    # Yes24 도서 검색 페이지 URL\n",
    "    url = 'http://www.yes24.com/Product/Search?domain=BOOK&query={}'\n",
    "    # URL에 ISBN을 넣어 HTML 가져옴\n",
    "    r = requests.get(url.format(isbn))\n",
    "    soup = BeautifulSoup(r.text, 'html.parser')   \n",
    "    # 검색 결과에서 해당 도서를 선택\n",
    "    prd_info = soup.find('a', attrs={'class':'gd_name'})\n",
    "    if prd_info == None:\n",
    "        return ''\n",
    "    # 도서 상세 페이지를 가져옴\n",
    "    url = 'http://www.yes24.com'+prd_info['href']\n",
    "    r = requests.get(url)\n",
    "    soup = BeautifulSoup(r.text, 'html.parser')\n",
    "    # 상품 상세정보 div를 선택\n",
    "    prd_detail = soup.find('div', attrs={'id':'infoset_specific'})\n",
    "    # 테이블에 있는 tr 태그를 가져옴\n",
    "    prd_tr_list = prd_detail.find_all('tr')\n",
    "    # 쪽수가 들어 있는 th를 찾아 td에 담긴 값을 반환\n",
    "    for tr in prd_tr_list:\n",
    "        if tr.find('th').get_text() == '쪽수, 무게, 크기':\n",
    "            #이 부분 수정하면 됨\n",
    "            return tr.find('td').get_text().split()[4]\n",
    "    return ''\n",
    "#크기\n",
    "#달러쿠트 꿈 백화점\n",
    "get_gram_cnt(9791165341909)"
   ]
  },
  {
   "cell_type": "code",
   "execution_count": null,
   "id": "abd38458-16b9-47dd-8e8a-85e578068dd5",
   "metadata": {},
   "outputs": [],
   "source": []
  }
 ],
 "metadata": {
  "kernelspec": {
   "display_name": "Python 3 (ipykernel)",
   "language": "python",
   "name": "python3"
  },
  "language_info": {
   "codemirror_mode": {
    "name": "ipython",
    "version": 3
   },
   "file_extension": ".py",
   "mimetype": "text/x-python",
   "name": "python",
   "nbconvert_exporter": "python",
   "pygments_lexer": "ipython3",
   "version": "3.11.5"
  }
 },
 "nbformat": 4,
 "nbformat_minor": 5
}
