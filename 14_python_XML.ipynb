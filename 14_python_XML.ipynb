{
 "cells": [
  {
   "cell_type": "code",
   "execution_count": 1,
   "id": "1f0cb751-203b-44a9-9f6e-dcea59799991",
   "metadata": {
    "tags": []
   },
   "outputs": [
    {
     "name": "stdout",
     "output_type": "stream",
     "text": [
      "menu\n",
      "<class 'xml.etree.ElementTree.Element'>\n",
      "tag : breakfast attributes: {'hours': '7-11'}\n",
      "\ttag : item attributes : {'price': '$6.00'}\n",
      "\ttag : item attributes : {'price': '$4.00'}\n",
      "tag : lunch attributes: {'hours': '11-3'}\n",
      "\ttag : item attributes : {'price': '$5.00'}\n",
      "tag : dinner attributes: {'hours': '3-10'}\n",
      "\ttag : item attributes : {'price': '8.00'}\n"
     ]
    }
   ],
   "source": [
    "import xml.etree.ElementTree as et\n",
    "t = et.ElementTree(file='menu.xml')\n",
    "r = t.getroot()\n",
    "\n",
    "print(r.tag)\n",
    "print(type(r))\n",
    "for i in r:\n",
    "    print('tag :', i.tag, 'attributes:', i.attrib)\n",
    "    for j in i:\n",
    "        print('\\ttag :', j.tag, 'attributes :', j.attrib)"
   ]
  },
  {
   "cell_type": "code",
   "execution_count": 2,
   "id": "5e5d79d3-5737-4084-8bdb-b2ed43b8876f",
   "metadata": {
    "tags": []
   },
   "outputs": [
    {
     "name": "stdout",
     "output_type": "stream",
     "text": [
      "3\n",
      "2\n",
      "<Element 'breakfast' at 0x104452340>\n",
      "7-11\n",
      "['hours']\n",
      "[('hours', '7-11')]\n",
      "[<Element 'item' at 0x104452390>, <Element 'item' at 0x104452430>]\n",
      "[<Element 'item' at 0x104452390>, <Element 'item' at 0x104452430>]\n",
      "$6.00\n",
      "breakfast burritos\n",
      "$4.00\n",
      "pancakes\n"
     ]
    }
   ],
   "source": [
    "print(len(r))\n",
    "print(len(r[0]))\n",
    "print(r[0])\n",
    "print(r[0].get(\"hours\"))\n",
    "print(r[0].keys())\n",
    "print(r[0].items())\n",
    "print(r[0].findall('item'))\n",
    "print(r[0].findall('item'))\n",
    "for i in r[0].findall('item'):\n",
    "    print(i.get('price'))\n",
    "    print(i.text)"
   ]
  },
  {
   "cell_type": "code",
   "execution_count": 3,
   "id": "023a9c08-7969-4568-8280-2e6aaf79f8f6",
   "metadata": {
    "tags": []
   },
   "outputs": [
    {
     "name": "stdout",
     "output_type": "stream",
     "text": [
      "{'name': '홍길동', 'birth': '0525', 'age': 30}\n",
      "{\"name\": \"\\ud64d\\uae38\\ub3d9\", \"birth\": \"0525\", \"age\": 30}\n",
      "{\n",
      "  \"name\": \"\\ud64d\\uae38\\ub3d9\",\n",
      "  \"birth\": \"0525\",\n",
      "  \"age\": 30\n",
      "}\n",
      "[1, 2, 3]\n",
      "[4, 5, 6]\n"
     ]
    },
    {
     "ename": "FileNotFoundError",
     "evalue": "[Errno 2] No such file or directory: './myinfo.json'",
     "output_type": "error",
     "traceback": [
      "\u001b[0;31m---------------------------------------------------------------------------\u001b[0m",
      "\u001b[0;31mFileNotFoundError\u001b[0m                         Traceback (most recent call last)",
      "Cell \u001b[0;32mIn[3], line 13\u001b[0m\n\u001b[1;32m     11\u001b[0m d \u001b[38;5;241m=\u001b[39m json\u001b[38;5;241m.\u001b[39mdumps(j)\n\u001b[1;32m     12\u001b[0m json\u001b[38;5;241m.\u001b[39mloads(d)\n\u001b[0;32m---> 13\u001b[0m \u001b[38;5;28;01mwith\u001b[39;00m \u001b[38;5;28mopen\u001b[39m(\u001b[38;5;124m'\u001b[39m\u001b[38;5;124m./myinfo.json\u001b[39m\u001b[38;5;124m'\u001b[39m) \u001b[38;5;28;01mas\u001b[39;00m f:\n\u001b[1;32m     14\u001b[0m     data \u001b[38;5;241m=\u001b[39m json\u001b[38;5;241m.\u001b[39mload(f)\n",
      "File \u001b[0;32m~/anaconda3/lib/python3.11/site-packages/IPython/core/interactiveshell.py:286\u001b[0m, in \u001b[0;36m_modified_open\u001b[0;34m(file, *args, **kwargs)\u001b[0m\n\u001b[1;32m    279\u001b[0m \u001b[38;5;28;01mif\u001b[39;00m file \u001b[38;5;129;01min\u001b[39;00m {\u001b[38;5;241m0\u001b[39m, \u001b[38;5;241m1\u001b[39m, \u001b[38;5;241m2\u001b[39m}:\n\u001b[1;32m    280\u001b[0m     \u001b[38;5;28;01mraise\u001b[39;00m \u001b[38;5;167;01mValueError\u001b[39;00m(\n\u001b[1;32m    281\u001b[0m         \u001b[38;5;124mf\u001b[39m\u001b[38;5;124m\"\u001b[39m\u001b[38;5;124mIPython won\u001b[39m\u001b[38;5;124m'\u001b[39m\u001b[38;5;124mt let you open fd=\u001b[39m\u001b[38;5;132;01m{\u001b[39;00mfile\u001b[38;5;132;01m}\u001b[39;00m\u001b[38;5;124m by default \u001b[39m\u001b[38;5;124m\"\u001b[39m\n\u001b[1;32m    282\u001b[0m         \u001b[38;5;124m\"\u001b[39m\u001b[38;5;124mas it is likely to crash IPython. If you know what you are doing, \u001b[39m\u001b[38;5;124m\"\u001b[39m\n\u001b[1;32m    283\u001b[0m         \u001b[38;5;124m\"\u001b[39m\u001b[38;5;124myou can use builtins\u001b[39m\u001b[38;5;124m'\u001b[39m\u001b[38;5;124m open.\u001b[39m\u001b[38;5;124m\"\u001b[39m\n\u001b[1;32m    284\u001b[0m     )\n\u001b[0;32m--> 286\u001b[0m \u001b[38;5;28;01mreturn\u001b[39;00m io_open(file, \u001b[38;5;241m*\u001b[39margs, \u001b[38;5;241m*\u001b[39m\u001b[38;5;241m*\u001b[39mkwargs)\n",
      "\u001b[0;31mFileNotFoundError\u001b[0m: [Errno 2] No such file or directory: './myinfo.json'"
     ]
    }
   ],
   "source": [
    "import json\n",
    "j = {\"name\":\"홍길동\", \"birth\": \"0525\", \"age\": 30}\n",
    "print(j)\n",
    "print(json.dumps(j))\n",
    "print(json.dumps(j, indent=2))\n",
    "print(json.dumps([1, 2, 3]))\n",
    "print(json.dumps((4, 5, 6)))\n",
    "\n",
    "\n",
    "j = {\"name\":\"홍길동\", \"birth\": \"0525\", \"age\": 30}\n",
    "d = json.dumps(j)\n",
    "json.loads(d)\n",
    "with open('./myinfo.json') as f:\n",
    "    data = json.load(f)"
   ]
  },
  {
   "cell_type": "code",
   "execution_count": null,
   "id": "d150eae8-cb96-4dc1-ad01-d9b2710db9cb",
   "metadata": {},
   "outputs": [],
   "source": []
  },
  {
   "cell_type": "code",
   "execution_count": null,
   "id": "119733f6-04f5-4147-a6e0-30b100732145",
   "metadata": {},
   "outputs": [],
   "source": []
  },
  {
   "cell_type": "code",
   "execution_count": null,
   "id": "c4951b75-cfd7-4565-a74e-e1441235487c",
   "metadata": {},
   "outputs": [],
   "source": []
  }
 ],
 "metadata": {
  "kernelspec": {
   "display_name": "Python 3 (ipykernel)",
   "language": "python",
   "name": "python3"
  },
  "language_info": {
   "codemirror_mode": {
    "name": "ipython",
    "version": 3
   },
   "file_extension": ".py",
   "mimetype": "text/x-python",
   "name": "python",
   "nbconvert_exporter": "python",
   "pygments_lexer": "ipython3",
   "version": "3.11.5"
  }
 },
 "nbformat": 4,
 "nbformat_minor": 5
}
